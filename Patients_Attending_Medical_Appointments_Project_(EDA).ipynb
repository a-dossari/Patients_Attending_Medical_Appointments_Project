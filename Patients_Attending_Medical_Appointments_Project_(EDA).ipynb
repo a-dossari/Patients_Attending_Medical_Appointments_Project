{
 "cells": [
  {
   "cell_type": "markdown",
   "metadata": {
    "id": "kB8ziF4uuiQH"
   },
   "source": [
    "# **Exploratory Data Analysis (EDA)**\n",
    "## **Project: Patients Attending Medical Appointments**"
   ]
  },
  {
   "cell_type": "markdown",
   "metadata": {
    "id": "2F5ZKZqkRwVd"
   },
   "source": [
    "# **Introduction**\n",
    "### When a patient makes a medical appointment, receives all the instructions, and does not attend the appointment, Should we blame the patient? Or the hospital? Or blame both?\n",
    "### In this project, we will talk about the problem of patients not attending their appointments, knowing the reasons of this problem, and proposing solutions to it.\n",
    "### Also, we will answer some questions, which are:\n",
    "*  ### What are the top three features affecting patients' attendance for their appointments?\n",
    "* ### Is there a correlation between one feature and another?\n",
    "* ### What do you suggest to solve this problem?\n",
    "\n",
    "\n"
   ]
  },
  {
   "cell_type": "markdown",
   "metadata": {
    "id": "urry8mCt2ptq"
   },
   "source": [
    "## **Data Features**\n",
    "### **1. Patient ID**\n",
    "Identification of a patient.\n",
    "\n",
    "### **2. Appointment ID**\n",
    "Identification of each appointment.\n",
    "\n",
    "### **3. Gender**\n",
    "What is patient gender? (Male or Female)\n",
    "\n",
    "### **4. Scheduled Day**\n",
    "The day someone called or registered the appointment, this is before appointment of course.\n",
    "\n",
    "### **5. Appointment Day**\n",
    "The day of the actuall appointment, when the patient have to visit the doctor.\n",
    "\n",
    "### **6. Age**\n",
    "How old is the patient?\n",
    "\n",
    "### **7. Neighborhood**\n",
    "Where the appointment takes place?\n",
    "\n",
    "### **8. Scholarship**\n",
    "Does the patient have a scholarship or not? (True or False) \n",
    "Observation, this is a broad topic, consider reading this [article](https://www.kaggle.com/joniarroba/noshowappointments)\n",
    "\n",
    "### **9. Hypertension**\n",
    "Does the patient have hypertension or not? (True or False)\n",
    "\n",
    "### **10. Diabetes**\n",
    "Does the patient have diabetes or not? (True or False)\n",
    "\n",
    "### **11. Alcoholism**\n",
    "Does the patient have alcoholism or not? (True or False)\n",
    "\n",
    "### **12. Handicap**\n",
    "Does the patient have a handicap or not? (True or False)\n",
    "\n",
    "### **13. SMS_received**\n",
    "Did the patient get one or more messages?  (True or False)\n",
    "\n",
    "### **14. No-show**\n",
    "Did the patient attend the appointment or not?  (True or False)\n"
   ]
  },
  {
   "cell_type": "markdown",
   "metadata": {
    "id": "GjwotqWWVU8h"
   },
   "source": [
    "# **Data Cleaning and Preparing**"
   ]
  },
  {
   "cell_type": "markdown",
   "metadata": {
    "id": "advAlt1hH5Wa"
   },
   "source": [
    "### Download the dataset"
   ]
  },
  {
   "cell_type": "markdown",
   "metadata": {
    "id": "nBlQ_BixIpbh"
   },
   "source": [
    "The dataset called \"No Attendance\", which contains 110,527 medical appointments its 14 associated variables (features). The most important one is \"no-show\", which will tell us if the patient attends the appointment or not. \n",
    "\n",
    "you can download the dataset from [here](https://www.kaggle.com/joniarroba/noshowappointments)\n"
   ]
  },
  {
   "cell_type": "markdown",
   "metadata": {
    "id": "6nebiS7oR7Cn"
   },
   "source": [
    "### Import libraries and load the dataset"
   ]
  },
  {
   "cell_type": "code",
   "execution_count": 26,
   "metadata": {
    "id": "WLqNJOxr3mJD"
   },
   "outputs": [],
   "source": [
    "import numpy as np\n",
    "import pandas as pd\n",
    "import matplotlib.pyplot as plt\n",
    "import seaborn as sns\n",
    "import datetime\n",
    "\n",
    "%matplotlib inline"
   ]
  },
  {
   "cell_type": "code",
   "execution_count": 27,
   "metadata": {
    "colab": {
     "base_uri": "https://localhost:8080/",
     "height": 428
    },
    "id": "au2TH9H82Afs",
    "outputId": "7f00e305-4be7-4015-d887-c846cf36d60e"
   },
   "outputs": [
    {
     "data": {
      "text/html": [
       "<div>\n",
       "<style scoped>\n",
       "    .dataframe tbody tr th:only-of-type {\n",
       "        vertical-align: middle;\n",
       "    }\n",
       "\n",
       "    .dataframe tbody tr th {\n",
       "        vertical-align: top;\n",
       "    }\n",
       "\n",
       "    .dataframe thead th {\n",
       "        text-align: right;\n",
       "    }\n",
       "</style>\n",
       "<table border=\"1\" class=\"dataframe\">\n",
       "  <thead>\n",
       "    <tr style=\"text-align: right;\">\n",
       "      <th></th>\n",
       "      <th>PatientId</th>\n",
       "      <th>AppointmentID</th>\n",
       "      <th>Gender</th>\n",
       "      <th>ScheduledDay</th>\n",
       "      <th>AppointmentDay</th>\n",
       "      <th>Age</th>\n",
       "      <th>Neighbourhood</th>\n",
       "      <th>Scholarship</th>\n",
       "      <th>Hipertension</th>\n",
       "      <th>Diabetes</th>\n",
       "      <th>Alcoholism</th>\n",
       "      <th>Handcap</th>\n",
       "      <th>SMS_received</th>\n",
       "      <th>No-show</th>\n",
       "    </tr>\n",
       "  </thead>\n",
       "  <tbody>\n",
       "    <tr>\n",
       "      <th>0</th>\n",
       "      <td>2.987250e+13</td>\n",
       "      <td>5642903</td>\n",
       "      <td>F</td>\n",
       "      <td>2016-04-29T18:38:08Z</td>\n",
       "      <td>2016-04-29T00:00:00Z</td>\n",
       "      <td>62</td>\n",
       "      <td>JARDIM DA PENHA</td>\n",
       "      <td>0</td>\n",
       "      <td>1</td>\n",
       "      <td>0</td>\n",
       "      <td>0</td>\n",
       "      <td>0</td>\n",
       "      <td>0</td>\n",
       "      <td>No</td>\n",
       "    </tr>\n",
       "    <tr>\n",
       "      <th>1</th>\n",
       "      <td>5.589978e+14</td>\n",
       "      <td>5642503</td>\n",
       "      <td>M</td>\n",
       "      <td>2016-04-29T16:08:27Z</td>\n",
       "      <td>2016-04-29T00:00:00Z</td>\n",
       "      <td>56</td>\n",
       "      <td>JARDIM DA PENHA</td>\n",
       "      <td>0</td>\n",
       "      <td>0</td>\n",
       "      <td>0</td>\n",
       "      <td>0</td>\n",
       "      <td>0</td>\n",
       "      <td>0</td>\n",
       "      <td>No</td>\n",
       "    </tr>\n",
       "    <tr>\n",
       "      <th>2</th>\n",
       "      <td>4.262962e+12</td>\n",
       "      <td>5642549</td>\n",
       "      <td>F</td>\n",
       "      <td>2016-04-29T16:19:04Z</td>\n",
       "      <td>2016-04-29T00:00:00Z</td>\n",
       "      <td>62</td>\n",
       "      <td>MATA DA PRAIA</td>\n",
       "      <td>0</td>\n",
       "      <td>0</td>\n",
       "      <td>0</td>\n",
       "      <td>0</td>\n",
       "      <td>0</td>\n",
       "      <td>0</td>\n",
       "      <td>No</td>\n",
       "    </tr>\n",
       "    <tr>\n",
       "      <th>3</th>\n",
       "      <td>8.679512e+11</td>\n",
       "      <td>5642828</td>\n",
       "      <td>F</td>\n",
       "      <td>2016-04-29T17:29:31Z</td>\n",
       "      <td>2016-04-29T00:00:00Z</td>\n",
       "      <td>8</td>\n",
       "      <td>PONTAL DE CAMBURI</td>\n",
       "      <td>0</td>\n",
       "      <td>0</td>\n",
       "      <td>0</td>\n",
       "      <td>0</td>\n",
       "      <td>0</td>\n",
       "      <td>0</td>\n",
       "      <td>No</td>\n",
       "    </tr>\n",
       "    <tr>\n",
       "      <th>4</th>\n",
       "      <td>8.841186e+12</td>\n",
       "      <td>5642494</td>\n",
       "      <td>F</td>\n",
       "      <td>2016-04-29T16:07:23Z</td>\n",
       "      <td>2016-04-29T00:00:00Z</td>\n",
       "      <td>56</td>\n",
       "      <td>JARDIM DA PENHA</td>\n",
       "      <td>0</td>\n",
       "      <td>1</td>\n",
       "      <td>1</td>\n",
       "      <td>0</td>\n",
       "      <td>0</td>\n",
       "      <td>0</td>\n",
       "      <td>No</td>\n",
       "    </tr>\n",
       "    <tr>\n",
       "      <th>5</th>\n",
       "      <td>9.598513e+13</td>\n",
       "      <td>5626772</td>\n",
       "      <td>F</td>\n",
       "      <td>2016-04-27T08:36:51Z</td>\n",
       "      <td>2016-04-29T00:00:00Z</td>\n",
       "      <td>76</td>\n",
       "      <td>REPÚBLICA</td>\n",
       "      <td>0</td>\n",
       "      <td>1</td>\n",
       "      <td>0</td>\n",
       "      <td>0</td>\n",
       "      <td>0</td>\n",
       "      <td>0</td>\n",
       "      <td>No</td>\n",
       "    </tr>\n",
       "    <tr>\n",
       "      <th>6</th>\n",
       "      <td>7.336882e+14</td>\n",
       "      <td>5630279</td>\n",
       "      <td>F</td>\n",
       "      <td>2016-04-27T15:05:12Z</td>\n",
       "      <td>2016-04-29T00:00:00Z</td>\n",
       "      <td>23</td>\n",
       "      <td>GOIABEIRAS</td>\n",
       "      <td>0</td>\n",
       "      <td>0</td>\n",
       "      <td>0</td>\n",
       "      <td>0</td>\n",
       "      <td>0</td>\n",
       "      <td>0</td>\n",
       "      <td>Yes</td>\n",
       "    </tr>\n",
       "  </tbody>\n",
       "</table>\n",
       "</div>"
      ],
      "text/plain": [
       "      PatientId  AppointmentID Gender          ScheduledDay  \\\n",
       "0  2.987250e+13        5642903      F  2016-04-29T18:38:08Z   \n",
       "1  5.589978e+14        5642503      M  2016-04-29T16:08:27Z   \n",
       "2  4.262962e+12        5642549      F  2016-04-29T16:19:04Z   \n",
       "3  8.679512e+11        5642828      F  2016-04-29T17:29:31Z   \n",
       "4  8.841186e+12        5642494      F  2016-04-29T16:07:23Z   \n",
       "5  9.598513e+13        5626772      F  2016-04-27T08:36:51Z   \n",
       "6  7.336882e+14        5630279      F  2016-04-27T15:05:12Z   \n",
       "\n",
       "         AppointmentDay  Age      Neighbourhood  Scholarship  Hipertension  \\\n",
       "0  2016-04-29T00:00:00Z   62    JARDIM DA PENHA            0             1   \n",
       "1  2016-04-29T00:00:00Z   56    JARDIM DA PENHA            0             0   \n",
       "2  2016-04-29T00:00:00Z   62      MATA DA PRAIA            0             0   \n",
       "3  2016-04-29T00:00:00Z    8  PONTAL DE CAMBURI            0             0   \n",
       "4  2016-04-29T00:00:00Z   56    JARDIM DA PENHA            0             1   \n",
       "5  2016-04-29T00:00:00Z   76          REPÚBLICA            0             1   \n",
       "6  2016-04-29T00:00:00Z   23         GOIABEIRAS            0             0   \n",
       "\n",
       "   Diabetes  Alcoholism  Handcap  SMS_received No-show  \n",
       "0         0           0        0             0      No  \n",
       "1         0           0        0             0      No  \n",
       "2         0           0        0             0      No  \n",
       "3         0           0        0             0      No  \n",
       "4         1           0        0             0      No  \n",
       "5         0           0        0             0      No  \n",
       "6         0           0        0             0     Yes  "
      ]
     },
     "execution_count": 27,
     "metadata": {},
     "output_type": "execute_result"
    }
   ],
   "source": [
    "df = pd.read_csv(\"Medical_Appointment.csv\")\n",
    "df.head(7)"
   ]
  },
  {
   "cell_type": "markdown",
   "metadata": {
    "id": "lqItJ8ZaD65A"
   },
   "source": [
    "### Summary and statistical information on the dataset"
   ]
  },
  {
   "cell_type": "code",
   "execution_count": 28,
   "metadata": {
    "colab": {
     "base_uri": "https://localhost:8080/",
     "height": 320
    },
    "id": "H7CwTxsbC1hk",
    "outputId": "c55aea2a-79ae-4e2c-f2c6-affc3b0ac141"
   },
   "outputs": [
    {
     "data": {
      "text/html": [
       "<div>\n",
       "<style scoped>\n",
       "    .dataframe tbody tr th:only-of-type {\n",
       "        vertical-align: middle;\n",
       "    }\n",
       "\n",
       "    .dataframe tbody tr th {\n",
       "        vertical-align: top;\n",
       "    }\n",
       "\n",
       "    .dataframe thead th {\n",
       "        text-align: right;\n",
       "    }\n",
       "</style>\n",
       "<table border=\"1\" class=\"dataframe\">\n",
       "  <thead>\n",
       "    <tr style=\"text-align: right;\">\n",
       "      <th></th>\n",
       "      <th>PatientId</th>\n",
       "      <th>AppointmentID</th>\n",
       "      <th>Age</th>\n",
       "      <th>Scholarship</th>\n",
       "      <th>Hipertension</th>\n",
       "      <th>Diabetes</th>\n",
       "      <th>Alcoholism</th>\n",
       "      <th>Handcap</th>\n",
       "      <th>SMS_received</th>\n",
       "    </tr>\n",
       "  </thead>\n",
       "  <tbody>\n",
       "    <tr>\n",
       "      <th>count</th>\n",
       "      <td>1.105270e+05</td>\n",
       "      <td>1.105270e+05</td>\n",
       "      <td>110527.000000</td>\n",
       "      <td>110527.000000</td>\n",
       "      <td>110527.000000</td>\n",
       "      <td>110527.000000</td>\n",
       "      <td>110527.000000</td>\n",
       "      <td>110527.000000</td>\n",
       "      <td>110527.000000</td>\n",
       "    </tr>\n",
       "    <tr>\n",
       "      <th>mean</th>\n",
       "      <td>1.474963e+14</td>\n",
       "      <td>5.675305e+06</td>\n",
       "      <td>37.088874</td>\n",
       "      <td>0.098266</td>\n",
       "      <td>0.197246</td>\n",
       "      <td>0.071865</td>\n",
       "      <td>0.030400</td>\n",
       "      <td>0.022248</td>\n",
       "      <td>0.321026</td>\n",
       "    </tr>\n",
       "    <tr>\n",
       "      <th>std</th>\n",
       "      <td>2.560949e+14</td>\n",
       "      <td>7.129575e+04</td>\n",
       "      <td>23.110205</td>\n",
       "      <td>0.297675</td>\n",
       "      <td>0.397921</td>\n",
       "      <td>0.258265</td>\n",
       "      <td>0.171686</td>\n",
       "      <td>0.161543</td>\n",
       "      <td>0.466873</td>\n",
       "    </tr>\n",
       "    <tr>\n",
       "      <th>min</th>\n",
       "      <td>3.921784e+04</td>\n",
       "      <td>5.030230e+06</td>\n",
       "      <td>-1.000000</td>\n",
       "      <td>0.000000</td>\n",
       "      <td>0.000000</td>\n",
       "      <td>0.000000</td>\n",
       "      <td>0.000000</td>\n",
       "      <td>0.000000</td>\n",
       "      <td>0.000000</td>\n",
       "    </tr>\n",
       "    <tr>\n",
       "      <th>25%</th>\n",
       "      <td>4.172614e+12</td>\n",
       "      <td>5.640286e+06</td>\n",
       "      <td>18.000000</td>\n",
       "      <td>0.000000</td>\n",
       "      <td>0.000000</td>\n",
       "      <td>0.000000</td>\n",
       "      <td>0.000000</td>\n",
       "      <td>0.000000</td>\n",
       "      <td>0.000000</td>\n",
       "    </tr>\n",
       "    <tr>\n",
       "      <th>50%</th>\n",
       "      <td>3.173184e+13</td>\n",
       "      <td>5.680573e+06</td>\n",
       "      <td>37.000000</td>\n",
       "      <td>0.000000</td>\n",
       "      <td>0.000000</td>\n",
       "      <td>0.000000</td>\n",
       "      <td>0.000000</td>\n",
       "      <td>0.000000</td>\n",
       "      <td>0.000000</td>\n",
       "    </tr>\n",
       "    <tr>\n",
       "      <th>75%</th>\n",
       "      <td>9.439172e+13</td>\n",
       "      <td>5.725524e+06</td>\n",
       "      <td>55.000000</td>\n",
       "      <td>0.000000</td>\n",
       "      <td>0.000000</td>\n",
       "      <td>0.000000</td>\n",
       "      <td>0.000000</td>\n",
       "      <td>0.000000</td>\n",
       "      <td>1.000000</td>\n",
       "    </tr>\n",
       "    <tr>\n",
       "      <th>max</th>\n",
       "      <td>9.999816e+14</td>\n",
       "      <td>5.790484e+06</td>\n",
       "      <td>115.000000</td>\n",
       "      <td>1.000000</td>\n",
       "      <td>1.000000</td>\n",
       "      <td>1.000000</td>\n",
       "      <td>1.000000</td>\n",
       "      <td>4.000000</td>\n",
       "      <td>1.000000</td>\n",
       "    </tr>\n",
       "  </tbody>\n",
       "</table>\n",
       "</div>"
      ],
      "text/plain": [
       "          PatientId  AppointmentID            Age    Scholarship  \\\n",
       "count  1.105270e+05   1.105270e+05  110527.000000  110527.000000   \n",
       "mean   1.474963e+14   5.675305e+06      37.088874       0.098266   \n",
       "std    2.560949e+14   7.129575e+04      23.110205       0.297675   \n",
       "min    3.921784e+04   5.030230e+06      -1.000000       0.000000   \n",
       "25%    4.172614e+12   5.640286e+06      18.000000       0.000000   \n",
       "50%    3.173184e+13   5.680573e+06      37.000000       0.000000   \n",
       "75%    9.439172e+13   5.725524e+06      55.000000       0.000000   \n",
       "max    9.999816e+14   5.790484e+06     115.000000       1.000000   \n",
       "\n",
       "        Hipertension       Diabetes     Alcoholism        Handcap  \\\n",
       "count  110527.000000  110527.000000  110527.000000  110527.000000   \n",
       "mean        0.197246       0.071865       0.030400       0.022248   \n",
       "std         0.397921       0.258265       0.171686       0.161543   \n",
       "min         0.000000       0.000000       0.000000       0.000000   \n",
       "25%         0.000000       0.000000       0.000000       0.000000   \n",
       "50%         0.000000       0.000000       0.000000       0.000000   \n",
       "75%         0.000000       0.000000       0.000000       0.000000   \n",
       "max         1.000000       1.000000       1.000000       4.000000   \n",
       "\n",
       "        SMS_received  \n",
       "count  110527.000000  \n",
       "mean        0.321026  \n",
       "std         0.466873  \n",
       "min         0.000000  \n",
       "25%         0.000000  \n",
       "50%         0.000000  \n",
       "75%         1.000000  \n",
       "max         1.000000  "
      ]
     },
     "execution_count": 28,
     "metadata": {},
     "output_type": "execute_result"
    }
   ],
   "source": [
    "# Display a number of functions and statistical information that can be useful to us\n",
    "\n",
    "df.describe()"
   ]
  },
  {
   "cell_type": "code",
   "execution_count": 29,
   "metadata": {
    "colab": {
     "base_uri": "https://localhost:8080/"
    },
    "id": "7pZNIxNJWchS",
    "outputId": "b8155cc1-1075-4222-d634-4b4c8d8f75ff"
   },
   "outputs": [
    {
     "name": "stdout",
     "output_type": "stream",
     "text": [
      "<class 'pandas.core.frame.DataFrame'>\n",
      "RangeIndex: 110527 entries, 0 to 110526\n",
      "Data columns (total 14 columns):\n",
      " #   Column          Non-Null Count   Dtype  \n",
      "---  ------          --------------   -----  \n",
      " 0   PatientId       110527 non-null  float64\n",
      " 1   AppointmentID   110527 non-null  int64  \n",
      " 2   Gender          110527 non-null  object \n",
      " 3   ScheduledDay    110527 non-null  object \n",
      " 4   AppointmentDay  110527 non-null  object \n",
      " 5   Age             110527 non-null  int64  \n",
      " 6   Neighbourhood   110527 non-null  object \n",
      " 7   Scholarship     110527 non-null  int64  \n",
      " 8   Hipertension    110527 non-null  int64  \n",
      " 9   Diabetes        110527 non-null  int64  \n",
      " 10  Alcoholism      110527 non-null  int64  \n",
      " 11  Handcap         110527 non-null  int64  \n",
      " 12  SMS_received    110527 non-null  int64  \n",
      " 13  No-show         110527 non-null  object \n",
      "dtypes: float64(1), int64(8), object(5)\n",
      "memory usage: 11.8+ MB\n"
     ]
    }
   ],
   "source": [
    "df.info()"
   ]
  },
  {
   "cell_type": "code",
   "execution_count": 30,
   "metadata": {
    "colab": {
     "base_uri": "https://localhost:8080/"
    },
    "id": "mHhtPqBiWj6f",
    "outputId": "746095fe-a689-4932-e1ff-d95dffb31f76"
   },
   "outputs": [
    {
     "data": {
      "text/plain": [
       "PatientId         0\n",
       "AppointmentID     0\n",
       "Gender            0\n",
       "ScheduledDay      0\n",
       "AppointmentDay    0\n",
       "Age               0\n",
       "Neighbourhood     0\n",
       "Scholarship       0\n",
       "Hipertension      0\n",
       "Diabetes          0\n",
       "Alcoholism        0\n",
       "Handcap           0\n",
       "SMS_received      0\n",
       "No-show           0\n",
       "dtype: int64"
      ]
     },
     "execution_count": 30,
     "metadata": {},
     "output_type": "execute_result"
    }
   ],
   "source": [
    "df.isna().sum()"
   ]
  },
  {
   "cell_type": "markdown",
   "metadata": {
    "id": "OxluTndqSs1N"
   },
   "source": [
    "### Change the column names to corrected and clearer names"
   ]
  },
  {
   "cell_type": "code",
   "execution_count": 31,
   "metadata": {
    "colab": {
     "base_uri": "https://localhost:8080/",
     "height": 410
    },
    "id": "YzZ6bBqlPZUw",
    "outputId": "7b003ef8-32ae-47bb-b20b-c5d1caa5c38b"
   },
   "outputs": [
    {
     "data": {
      "text/html": [
       "<div>\n",
       "<style scoped>\n",
       "    .dataframe tbody tr th:only-of-type {\n",
       "        vertical-align: middle;\n",
       "    }\n",
       "\n",
       "    .dataframe tbody tr th {\n",
       "        vertical-align: top;\n",
       "    }\n",
       "\n",
       "    .dataframe thead th {\n",
       "        text-align: right;\n",
       "    }\n",
       "</style>\n",
       "<table border=\"1\" class=\"dataframe\">\n",
       "  <thead>\n",
       "    <tr style=\"text-align: right;\">\n",
       "      <th></th>\n",
       "      <th>Patient_ID</th>\n",
       "      <th>Appointment_ID</th>\n",
       "      <th>Gender</th>\n",
       "      <th>Scheduled_Day</th>\n",
       "      <th>Appointment_Day</th>\n",
       "      <th>Age</th>\n",
       "      <th>Neighborhood</th>\n",
       "      <th>Scholarship</th>\n",
       "      <th>Hypertension</th>\n",
       "      <th>Diabetes</th>\n",
       "      <th>Alcoholism</th>\n",
       "      <th>Handicap</th>\n",
       "      <th>SMS_received</th>\n",
       "      <th>Attending</th>\n",
       "    </tr>\n",
       "  </thead>\n",
       "  <tbody>\n",
       "    <tr>\n",
       "      <th>0</th>\n",
       "      <td>2.987250e+13</td>\n",
       "      <td>5642903</td>\n",
       "      <td>F</td>\n",
       "      <td>2016-04-29T18:38:08Z</td>\n",
       "      <td>2016-04-29T00:00:00Z</td>\n",
       "      <td>62</td>\n",
       "      <td>JARDIM DA PENHA</td>\n",
       "      <td>0</td>\n",
       "      <td>1</td>\n",
       "      <td>0</td>\n",
       "      <td>0</td>\n",
       "      <td>0</td>\n",
       "      <td>0</td>\n",
       "      <td>No</td>\n",
       "    </tr>\n",
       "    <tr>\n",
       "      <th>1</th>\n",
       "      <td>5.589978e+14</td>\n",
       "      <td>5642503</td>\n",
       "      <td>M</td>\n",
       "      <td>2016-04-29T16:08:27Z</td>\n",
       "      <td>2016-04-29T00:00:00Z</td>\n",
       "      <td>56</td>\n",
       "      <td>JARDIM DA PENHA</td>\n",
       "      <td>0</td>\n",
       "      <td>0</td>\n",
       "      <td>0</td>\n",
       "      <td>0</td>\n",
       "      <td>0</td>\n",
       "      <td>0</td>\n",
       "      <td>No</td>\n",
       "    </tr>\n",
       "    <tr>\n",
       "      <th>2</th>\n",
       "      <td>4.262962e+12</td>\n",
       "      <td>5642549</td>\n",
       "      <td>F</td>\n",
       "      <td>2016-04-29T16:19:04Z</td>\n",
       "      <td>2016-04-29T00:00:00Z</td>\n",
       "      <td>62</td>\n",
       "      <td>MATA DA PRAIA</td>\n",
       "      <td>0</td>\n",
       "      <td>0</td>\n",
       "      <td>0</td>\n",
       "      <td>0</td>\n",
       "      <td>0</td>\n",
       "      <td>0</td>\n",
       "      <td>No</td>\n",
       "    </tr>\n",
       "    <tr>\n",
       "      <th>3</th>\n",
       "      <td>8.679512e+11</td>\n",
       "      <td>5642828</td>\n",
       "      <td>F</td>\n",
       "      <td>2016-04-29T17:29:31Z</td>\n",
       "      <td>2016-04-29T00:00:00Z</td>\n",
       "      <td>8</td>\n",
       "      <td>PONTAL DE CAMBURI</td>\n",
       "      <td>0</td>\n",
       "      <td>0</td>\n",
       "      <td>0</td>\n",
       "      <td>0</td>\n",
       "      <td>0</td>\n",
       "      <td>0</td>\n",
       "      <td>No</td>\n",
       "    </tr>\n",
       "    <tr>\n",
       "      <th>4</th>\n",
       "      <td>8.841186e+12</td>\n",
       "      <td>5642494</td>\n",
       "      <td>F</td>\n",
       "      <td>2016-04-29T16:07:23Z</td>\n",
       "      <td>2016-04-29T00:00:00Z</td>\n",
       "      <td>56</td>\n",
       "      <td>JARDIM DA PENHA</td>\n",
       "      <td>0</td>\n",
       "      <td>1</td>\n",
       "      <td>1</td>\n",
       "      <td>0</td>\n",
       "      <td>0</td>\n",
       "      <td>0</td>\n",
       "      <td>No</td>\n",
       "    </tr>\n",
       "    <tr>\n",
       "      <th>5</th>\n",
       "      <td>9.598513e+13</td>\n",
       "      <td>5626772</td>\n",
       "      <td>F</td>\n",
       "      <td>2016-04-27T08:36:51Z</td>\n",
       "      <td>2016-04-29T00:00:00Z</td>\n",
       "      <td>76</td>\n",
       "      <td>REPÚBLICA</td>\n",
       "      <td>0</td>\n",
       "      <td>1</td>\n",
       "      <td>0</td>\n",
       "      <td>0</td>\n",
       "      <td>0</td>\n",
       "      <td>0</td>\n",
       "      <td>No</td>\n",
       "    </tr>\n",
       "    <tr>\n",
       "      <th>6</th>\n",
       "      <td>7.336882e+14</td>\n",
       "      <td>5630279</td>\n",
       "      <td>F</td>\n",
       "      <td>2016-04-27T15:05:12Z</td>\n",
       "      <td>2016-04-29T00:00:00Z</td>\n",
       "      <td>23</td>\n",
       "      <td>GOIABEIRAS</td>\n",
       "      <td>0</td>\n",
       "      <td>0</td>\n",
       "      <td>0</td>\n",
       "      <td>0</td>\n",
       "      <td>0</td>\n",
       "      <td>0</td>\n",
       "      <td>Yes</td>\n",
       "    </tr>\n",
       "  </tbody>\n",
       "</table>\n",
       "</div>"
      ],
      "text/plain": [
       "     Patient_ID  Appointment_ID Gender         Scheduled_Day  \\\n",
       "0  2.987250e+13         5642903      F  2016-04-29T18:38:08Z   \n",
       "1  5.589978e+14         5642503      M  2016-04-29T16:08:27Z   \n",
       "2  4.262962e+12         5642549      F  2016-04-29T16:19:04Z   \n",
       "3  8.679512e+11         5642828      F  2016-04-29T17:29:31Z   \n",
       "4  8.841186e+12         5642494      F  2016-04-29T16:07:23Z   \n",
       "5  9.598513e+13         5626772      F  2016-04-27T08:36:51Z   \n",
       "6  7.336882e+14         5630279      F  2016-04-27T15:05:12Z   \n",
       "\n",
       "        Appointment_Day  Age       Neighborhood  Scholarship  Hypertension  \\\n",
       "0  2016-04-29T00:00:00Z   62    JARDIM DA PENHA            0             1   \n",
       "1  2016-04-29T00:00:00Z   56    JARDIM DA PENHA            0             0   \n",
       "2  2016-04-29T00:00:00Z   62      MATA DA PRAIA            0             0   \n",
       "3  2016-04-29T00:00:00Z    8  PONTAL DE CAMBURI            0             0   \n",
       "4  2016-04-29T00:00:00Z   56    JARDIM DA PENHA            0             1   \n",
       "5  2016-04-29T00:00:00Z   76          REPÚBLICA            0             1   \n",
       "6  2016-04-29T00:00:00Z   23         GOIABEIRAS            0             0   \n",
       "\n",
       "   Diabetes  Alcoholism  Handicap  SMS_received Attending  \n",
       "0         0           0         0             0        No  \n",
       "1         0           0         0             0        No  \n",
       "2         0           0         0             0        No  \n",
       "3         0           0         0             0        No  \n",
       "4         1           0         0             0        No  \n",
       "5         0           0         0             0        No  \n",
       "6         0           0         0             0       Yes  "
      ]
     },
     "execution_count": 31,
     "metadata": {},
     "output_type": "execute_result"
    }
   ],
   "source": [
    "# Feature names used (before) are either contiguous and unclear, or contain misspellings\n",
    "\n",
    "df.rename(columns = {'PatientId':'Patient_ID',\n",
    "                        'AppointmentID':'Appointment_ID',\n",
    "                        'ScheduledDay':'Scheduled_Day',\n",
    "                        'AppointmentDay':'Appointment_Day',\n",
    "                        'Neighbourhood':'Neighborhood',\n",
    "                        'Hipertension':'Hypertension',\n",
    "                        'Handcap':'Handicap',\n",
    "                        'No-show': 'Attending'\n",
    "                       }, inplace=True)\n",
    "df.head(7)"
   ]
  },
  {
   "cell_type": "markdown",
   "metadata": {
    "id": "YbNt1klASf6p"
   },
   "source": [
    "### Drop useless columns"
   ]
  },
  {
   "cell_type": "code",
   "execution_count": 32,
   "metadata": {
    "colab": {
     "base_uri": "https://localhost:8080/",
     "height": 410
    },
    "id": "SxPSQ5YhPeYg",
    "outputId": "000908f9-60e3-46b7-bbd3-0ddea9b0820f"
   },
   "outputs": [
    {
     "data": {
      "text/html": [
       "<div>\n",
       "<style scoped>\n",
       "    .dataframe tbody tr th:only-of-type {\n",
       "        vertical-align: middle;\n",
       "    }\n",
       "\n",
       "    .dataframe tbody tr th {\n",
       "        vertical-align: top;\n",
       "    }\n",
       "\n",
       "    .dataframe thead th {\n",
       "        text-align: right;\n",
       "    }\n",
       "</style>\n",
       "<table border=\"1\" class=\"dataframe\">\n",
       "  <thead>\n",
       "    <tr style=\"text-align: right;\">\n",
       "      <th></th>\n",
       "      <th>Gender</th>\n",
       "      <th>Scheduled_Day</th>\n",
       "      <th>Appointment_Day</th>\n",
       "      <th>Age</th>\n",
       "      <th>Scholarship</th>\n",
       "      <th>Hypertension</th>\n",
       "      <th>Diabetes</th>\n",
       "      <th>Alcoholism</th>\n",
       "      <th>Handicap</th>\n",
       "      <th>SMS_received</th>\n",
       "      <th>Attending</th>\n",
       "    </tr>\n",
       "  </thead>\n",
       "  <tbody>\n",
       "    <tr>\n",
       "      <th>0</th>\n",
       "      <td>F</td>\n",
       "      <td>2016-04-29T18:38:08Z</td>\n",
       "      <td>2016-04-29T00:00:00Z</td>\n",
       "      <td>62</td>\n",
       "      <td>0</td>\n",
       "      <td>1</td>\n",
       "      <td>0</td>\n",
       "      <td>0</td>\n",
       "      <td>0</td>\n",
       "      <td>0</td>\n",
       "      <td>No</td>\n",
       "    </tr>\n",
       "    <tr>\n",
       "      <th>1</th>\n",
       "      <td>M</td>\n",
       "      <td>2016-04-29T16:08:27Z</td>\n",
       "      <td>2016-04-29T00:00:00Z</td>\n",
       "      <td>56</td>\n",
       "      <td>0</td>\n",
       "      <td>0</td>\n",
       "      <td>0</td>\n",
       "      <td>0</td>\n",
       "      <td>0</td>\n",
       "      <td>0</td>\n",
       "      <td>No</td>\n",
       "    </tr>\n",
       "    <tr>\n",
       "      <th>2</th>\n",
       "      <td>F</td>\n",
       "      <td>2016-04-29T16:19:04Z</td>\n",
       "      <td>2016-04-29T00:00:00Z</td>\n",
       "      <td>62</td>\n",
       "      <td>0</td>\n",
       "      <td>0</td>\n",
       "      <td>0</td>\n",
       "      <td>0</td>\n",
       "      <td>0</td>\n",
       "      <td>0</td>\n",
       "      <td>No</td>\n",
       "    </tr>\n",
       "    <tr>\n",
       "      <th>3</th>\n",
       "      <td>F</td>\n",
       "      <td>2016-04-29T17:29:31Z</td>\n",
       "      <td>2016-04-29T00:00:00Z</td>\n",
       "      <td>8</td>\n",
       "      <td>0</td>\n",
       "      <td>0</td>\n",
       "      <td>0</td>\n",
       "      <td>0</td>\n",
       "      <td>0</td>\n",
       "      <td>0</td>\n",
       "      <td>No</td>\n",
       "    </tr>\n",
       "    <tr>\n",
       "      <th>4</th>\n",
       "      <td>F</td>\n",
       "      <td>2016-04-29T16:07:23Z</td>\n",
       "      <td>2016-04-29T00:00:00Z</td>\n",
       "      <td>56</td>\n",
       "      <td>0</td>\n",
       "      <td>1</td>\n",
       "      <td>1</td>\n",
       "      <td>0</td>\n",
       "      <td>0</td>\n",
       "      <td>0</td>\n",
       "      <td>No</td>\n",
       "    </tr>\n",
       "    <tr>\n",
       "      <th>5</th>\n",
       "      <td>F</td>\n",
       "      <td>2016-04-27T08:36:51Z</td>\n",
       "      <td>2016-04-29T00:00:00Z</td>\n",
       "      <td>76</td>\n",
       "      <td>0</td>\n",
       "      <td>1</td>\n",
       "      <td>0</td>\n",
       "      <td>0</td>\n",
       "      <td>0</td>\n",
       "      <td>0</td>\n",
       "      <td>No</td>\n",
       "    </tr>\n",
       "    <tr>\n",
       "      <th>6</th>\n",
       "      <td>F</td>\n",
       "      <td>2016-04-27T15:05:12Z</td>\n",
       "      <td>2016-04-29T00:00:00Z</td>\n",
       "      <td>23</td>\n",
       "      <td>0</td>\n",
       "      <td>0</td>\n",
       "      <td>0</td>\n",
       "      <td>0</td>\n",
       "      <td>0</td>\n",
       "      <td>0</td>\n",
       "      <td>Yes</td>\n",
       "    </tr>\n",
       "  </tbody>\n",
       "</table>\n",
       "</div>"
      ],
      "text/plain": [
       "  Gender         Scheduled_Day       Appointment_Day  Age  Scholarship  \\\n",
       "0      F  2016-04-29T18:38:08Z  2016-04-29T00:00:00Z   62            0   \n",
       "1      M  2016-04-29T16:08:27Z  2016-04-29T00:00:00Z   56            0   \n",
       "2      F  2016-04-29T16:19:04Z  2016-04-29T00:00:00Z   62            0   \n",
       "3      F  2016-04-29T17:29:31Z  2016-04-29T00:00:00Z    8            0   \n",
       "4      F  2016-04-29T16:07:23Z  2016-04-29T00:00:00Z   56            0   \n",
       "5      F  2016-04-27T08:36:51Z  2016-04-29T00:00:00Z   76            0   \n",
       "6      F  2016-04-27T15:05:12Z  2016-04-29T00:00:00Z   23            0   \n",
       "\n",
       "   Hypertension  Diabetes  Alcoholism  Handicap  SMS_received Attending  \n",
       "0             1         0           0         0             0        No  \n",
       "1             0         0           0         0             0        No  \n",
       "2             0         0           0         0             0        No  \n",
       "3             0         0           0         0             0        No  \n",
       "4             1         1           0         0             0        No  \n",
       "5             1         0           0         0             0        No  \n",
       "6             0         0           0         0             0       Yes  "
      ]
     },
     "execution_count": 32,
     "metadata": {},
     "output_type": "execute_result"
    }
   ],
   "source": [
    "# These features will not be used in this project because they will not add anything or have too many values, and may cause confusion and problems in the analysis\n",
    "\n",
    "df.drop(['Patient_ID', 'Appointment_ID', 'Neighborhood'], axis=1, inplace=True)\n",
    "df.head(7)"
   ]
  },
  {
   "cell_type": "markdown",
   "metadata": {
    "id": "QtEEwD6OnzW-"
   },
   "source": [
    "### Convert `Scheduled_Day` and `Appointment_Day` to \" yyyy-mm-dd \" formula, to make calculating the difference of days between them easier"
   ]
  },
  {
   "cell_type": "code",
   "execution_count": 33,
   "metadata": {
    "colab": {
     "base_uri": "https://localhost:8080/",
     "height": 289
    },
    "id": "912VuJb-P5dJ",
    "outputId": "125b17be-a98c-4265-8d99-99e6fd39a8df"
   },
   "outputs": [
    {
     "data": {
      "text/html": [
       "<div>\n",
       "<style scoped>\n",
       "    .dataframe tbody tr th:only-of-type {\n",
       "        vertical-align: middle;\n",
       "    }\n",
       "\n",
       "    .dataframe tbody tr th {\n",
       "        vertical-align: top;\n",
       "    }\n",
       "\n",
       "    .dataframe thead th {\n",
       "        text-align: right;\n",
       "    }\n",
       "</style>\n",
       "<table border=\"1\" class=\"dataframe\">\n",
       "  <thead>\n",
       "    <tr style=\"text-align: right;\">\n",
       "      <th></th>\n",
       "      <th>Gender</th>\n",
       "      <th>Scheduled_Day</th>\n",
       "      <th>Appointment_Day</th>\n",
       "      <th>Age</th>\n",
       "      <th>Scholarship</th>\n",
       "      <th>Hypertension</th>\n",
       "      <th>Diabetes</th>\n",
       "      <th>Alcoholism</th>\n",
       "      <th>Handicap</th>\n",
       "      <th>SMS_received</th>\n",
       "      <th>Attending</th>\n",
       "    </tr>\n",
       "  </thead>\n",
       "  <tbody>\n",
       "    <tr>\n",
       "      <th>0</th>\n",
       "      <td>F</td>\n",
       "      <td>2016-04-29</td>\n",
       "      <td>2016-04-29</td>\n",
       "      <td>62</td>\n",
       "      <td>0</td>\n",
       "      <td>1</td>\n",
       "      <td>0</td>\n",
       "      <td>0</td>\n",
       "      <td>0</td>\n",
       "      <td>0</td>\n",
       "      <td>No</td>\n",
       "    </tr>\n",
       "    <tr>\n",
       "      <th>1</th>\n",
       "      <td>M</td>\n",
       "      <td>2016-04-29</td>\n",
       "      <td>2016-04-29</td>\n",
       "      <td>56</td>\n",
       "      <td>0</td>\n",
       "      <td>0</td>\n",
       "      <td>0</td>\n",
       "      <td>0</td>\n",
       "      <td>0</td>\n",
       "      <td>0</td>\n",
       "      <td>No</td>\n",
       "    </tr>\n",
       "    <tr>\n",
       "      <th>2</th>\n",
       "      <td>F</td>\n",
       "      <td>2016-04-29</td>\n",
       "      <td>2016-04-29</td>\n",
       "      <td>62</td>\n",
       "      <td>0</td>\n",
       "      <td>0</td>\n",
       "      <td>0</td>\n",
       "      <td>0</td>\n",
       "      <td>0</td>\n",
       "      <td>0</td>\n",
       "      <td>No</td>\n",
       "    </tr>\n",
       "    <tr>\n",
       "      <th>3</th>\n",
       "      <td>F</td>\n",
       "      <td>2016-04-29</td>\n",
       "      <td>2016-04-29</td>\n",
       "      <td>8</td>\n",
       "      <td>0</td>\n",
       "      <td>0</td>\n",
       "      <td>0</td>\n",
       "      <td>0</td>\n",
       "      <td>0</td>\n",
       "      <td>0</td>\n",
       "      <td>No</td>\n",
       "    </tr>\n",
       "    <tr>\n",
       "      <th>4</th>\n",
       "      <td>F</td>\n",
       "      <td>2016-04-29</td>\n",
       "      <td>2016-04-29</td>\n",
       "      <td>56</td>\n",
       "      <td>0</td>\n",
       "      <td>1</td>\n",
       "      <td>1</td>\n",
       "      <td>0</td>\n",
       "      <td>0</td>\n",
       "      <td>0</td>\n",
       "      <td>No</td>\n",
       "    </tr>\n",
       "    <tr>\n",
       "      <th>5</th>\n",
       "      <td>F</td>\n",
       "      <td>2016-04-27</td>\n",
       "      <td>2016-04-29</td>\n",
       "      <td>76</td>\n",
       "      <td>0</td>\n",
       "      <td>1</td>\n",
       "      <td>0</td>\n",
       "      <td>0</td>\n",
       "      <td>0</td>\n",
       "      <td>0</td>\n",
       "      <td>No</td>\n",
       "    </tr>\n",
       "    <tr>\n",
       "      <th>6</th>\n",
       "      <td>F</td>\n",
       "      <td>2016-04-27</td>\n",
       "      <td>2016-04-29</td>\n",
       "      <td>23</td>\n",
       "      <td>0</td>\n",
       "      <td>0</td>\n",
       "      <td>0</td>\n",
       "      <td>0</td>\n",
       "      <td>0</td>\n",
       "      <td>0</td>\n",
       "      <td>Yes</td>\n",
       "    </tr>\n",
       "  </tbody>\n",
       "</table>\n",
       "</div>"
      ],
      "text/plain": [
       "  Gender Scheduled_Day Appointment_Day  Age  Scholarship  Hypertension  \\\n",
       "0      F    2016-04-29      2016-04-29   62            0             1   \n",
       "1      M    2016-04-29      2016-04-29   56            0             0   \n",
       "2      F    2016-04-29      2016-04-29   62            0             0   \n",
       "3      F    2016-04-29      2016-04-29    8            0             0   \n",
       "4      F    2016-04-29      2016-04-29   56            0             1   \n",
       "5      F    2016-04-27      2016-04-29   76            0             1   \n",
       "6      F    2016-04-27      2016-04-29   23            0             0   \n",
       "\n",
       "   Diabetes  Alcoholism  Handicap  SMS_received Attending  \n",
       "0         0           0         0             0        No  \n",
       "1         0           0         0             0        No  \n",
       "2         0           0         0             0        No  \n",
       "3         0           0         0             0        No  \n",
       "4         1           0         0             0        No  \n",
       "5         0           0         0             0        No  \n",
       "6         0           0         0             0       Yes  "
      ]
     },
     "execution_count": 33,
     "metadata": {},
     "output_type": "execute_result"
    }
   ],
   "source": [
    "# We do this step so that we can calculate the number of days between dates\n",
    "\n",
    "df.Scheduled_Day = pd.to_datetime(df.Scheduled_Day).dt.date.astype('datetime64[ns]')\n",
    "df.Appointment_Day = pd.to_datetime(df.Appointment_Day).dt.date.astype('datetime64[ns]')\n",
    "\n",
    "df.head(7)"
   ]
  },
  {
   "cell_type": "markdown",
   "metadata": {
    "id": "hcVo4C-prgaa"
   },
   "source": [
    "### Calculating how many days left from `Scheduled_Day` to `Appointment_Day`"
   ]
  },
  {
   "cell_type": "code",
   "execution_count": 34,
   "metadata": {
    "colab": {
     "base_uri": "https://localhost:8080/",
     "height": 268
    },
    "id": "clq774Z6oYJt",
    "outputId": "8e59a3ad-e9ef-44a7-ceb6-3b4917868cce"
   },
   "outputs": [
    {
     "data": {
      "text/html": [
       "<div>\n",
       "<style scoped>\n",
       "    .dataframe tbody tr th:only-of-type {\n",
       "        vertical-align: middle;\n",
       "    }\n",
       "\n",
       "    .dataframe tbody tr th {\n",
       "        vertical-align: top;\n",
       "    }\n",
       "\n",
       "    .dataframe thead th {\n",
       "        text-align: right;\n",
       "    }\n",
       "</style>\n",
       "<table border=\"1\" class=\"dataframe\">\n",
       "  <thead>\n",
       "    <tr style=\"text-align: right;\">\n",
       "      <th></th>\n",
       "      <th>Gender</th>\n",
       "      <th>Scheduled_Day</th>\n",
       "      <th>Appointment_Day</th>\n",
       "      <th>Days_Left</th>\n",
       "      <th>Age</th>\n",
       "      <th>Scholarship</th>\n",
       "      <th>Hypertension</th>\n",
       "      <th>Diabetes</th>\n",
       "      <th>Alcoholism</th>\n",
       "      <th>Handicap</th>\n",
       "      <th>SMS_received</th>\n",
       "      <th>Attending</th>\n",
       "    </tr>\n",
       "  </thead>\n",
       "  <tbody>\n",
       "    <tr>\n",
       "      <th>0</th>\n",
       "      <td>F</td>\n",
       "      <td>2016-04-29</td>\n",
       "      <td>2016-04-29</td>\n",
       "      <td>0</td>\n",
       "      <td>62</td>\n",
       "      <td>0</td>\n",
       "      <td>1</td>\n",
       "      <td>0</td>\n",
       "      <td>0</td>\n",
       "      <td>0</td>\n",
       "      <td>0</td>\n",
       "      <td>No</td>\n",
       "    </tr>\n",
       "    <tr>\n",
       "      <th>1</th>\n",
       "      <td>M</td>\n",
       "      <td>2016-04-29</td>\n",
       "      <td>2016-04-29</td>\n",
       "      <td>0</td>\n",
       "      <td>56</td>\n",
       "      <td>0</td>\n",
       "      <td>0</td>\n",
       "      <td>0</td>\n",
       "      <td>0</td>\n",
       "      <td>0</td>\n",
       "      <td>0</td>\n",
       "      <td>No</td>\n",
       "    </tr>\n",
       "    <tr>\n",
       "      <th>2</th>\n",
       "      <td>F</td>\n",
       "      <td>2016-04-29</td>\n",
       "      <td>2016-04-29</td>\n",
       "      <td>0</td>\n",
       "      <td>62</td>\n",
       "      <td>0</td>\n",
       "      <td>0</td>\n",
       "      <td>0</td>\n",
       "      <td>0</td>\n",
       "      <td>0</td>\n",
       "      <td>0</td>\n",
       "      <td>No</td>\n",
       "    </tr>\n",
       "    <tr>\n",
       "      <th>3</th>\n",
       "      <td>F</td>\n",
       "      <td>2016-04-29</td>\n",
       "      <td>2016-04-29</td>\n",
       "      <td>0</td>\n",
       "      <td>8</td>\n",
       "      <td>0</td>\n",
       "      <td>0</td>\n",
       "      <td>0</td>\n",
       "      <td>0</td>\n",
       "      <td>0</td>\n",
       "      <td>0</td>\n",
       "      <td>No</td>\n",
       "    </tr>\n",
       "    <tr>\n",
       "      <th>4</th>\n",
       "      <td>F</td>\n",
       "      <td>2016-04-29</td>\n",
       "      <td>2016-04-29</td>\n",
       "      <td>0</td>\n",
       "      <td>56</td>\n",
       "      <td>0</td>\n",
       "      <td>1</td>\n",
       "      <td>1</td>\n",
       "      <td>0</td>\n",
       "      <td>0</td>\n",
       "      <td>0</td>\n",
       "      <td>No</td>\n",
       "    </tr>\n",
       "    <tr>\n",
       "      <th>5</th>\n",
       "      <td>F</td>\n",
       "      <td>2016-04-27</td>\n",
       "      <td>2016-04-29</td>\n",
       "      <td>2</td>\n",
       "      <td>76</td>\n",
       "      <td>0</td>\n",
       "      <td>1</td>\n",
       "      <td>0</td>\n",
       "      <td>0</td>\n",
       "      <td>0</td>\n",
       "      <td>0</td>\n",
       "      <td>No</td>\n",
       "    </tr>\n",
       "    <tr>\n",
       "      <th>6</th>\n",
       "      <td>F</td>\n",
       "      <td>2016-04-27</td>\n",
       "      <td>2016-04-29</td>\n",
       "      <td>2</td>\n",
       "      <td>23</td>\n",
       "      <td>0</td>\n",
       "      <td>0</td>\n",
       "      <td>0</td>\n",
       "      <td>0</td>\n",
       "      <td>0</td>\n",
       "      <td>0</td>\n",
       "      <td>Yes</td>\n",
       "    </tr>\n",
       "  </tbody>\n",
       "</table>\n",
       "</div>"
      ],
      "text/plain": [
       "  Gender Scheduled_Day Appointment_Day  Days_Left  Age  Scholarship  \\\n",
       "0      F    2016-04-29      2016-04-29          0   62            0   \n",
       "1      M    2016-04-29      2016-04-29          0   56            0   \n",
       "2      F    2016-04-29      2016-04-29          0   62            0   \n",
       "3      F    2016-04-29      2016-04-29          0    8            0   \n",
       "4      F    2016-04-29      2016-04-29          0   56            0   \n",
       "5      F    2016-04-27      2016-04-29          2   76            0   \n",
       "6      F    2016-04-27      2016-04-29          2   23            0   \n",
       "\n",
       "   Hypertension  Diabetes  Alcoholism  Handicap  SMS_received Attending  \n",
       "0             1         0           0         0             0        No  \n",
       "1             0         0           0         0             0        No  \n",
       "2             0         0           0         0             0        No  \n",
       "3             0         0           0         0             0        No  \n",
       "4             1         1           0         0             0        No  \n",
       "5             1         0           0         0             0        No  \n",
       "6             0         0           0         0             0       Yes  "
      ]
     },
     "execution_count": 34,
     "metadata": {},
     "output_type": "execute_result"
    }
   ],
   "source": [
    "# We do this step to know the effect of the number of days on the target\n",
    "\n",
    "Days_Left = (df.Appointment_Day - df.Scheduled_Day).dt.days\n",
    "df.insert(3, \"Days_Left\", Days_Left)\n",
    "\n",
    "df.head(7)"
   ]
  },
  {
   "cell_type": "markdown",
   "metadata": {
    "id": "ULfLIsjZG8w_"
   },
   "source": [
    "### Remove irrational values in the columns `Age` and `Days_Left`"
   ]
  },
  {
   "cell_type": "code",
   "execution_count": 35,
   "metadata": {
    "colab": {
     "base_uri": "https://localhost:8080/",
     "height": 882
    },
    "id": "uRMn-PjTvKzz",
    "outputId": "d4aa5ee1-c255-459c-9037-44fb49fd9239"
   },
   "outputs": [
    {
     "name": "stdout",
     "output_type": "stream",
     "text": [
      "Column Age values, before revoming: \n",
      "[ -1   0   1   2   3   4   5   6   7   8   9  10  11  12  13  14  15  16\n",
      "  17  18  19  20  21  22  23  24  25  26  27  28  29  30  31  32  33  34\n",
      "  35  36  37  38  39  40  41  42  43  44  45  46  47  48  49  50  51  52\n",
      "  53  54  55  56  57  58  59  60  61  62  63  64  65  66  67  68  69  70\n",
      "  71  72  73  74  75  76  77  78  79  80  81  82  83  84  85  86  87  88\n",
      "  89  90  91  92  93  94  95  96  97  98  99 100 102 115]\n",
      "\n",
      "\n",
      "Number of values that should be removed in Age column are 1\n",
      "\n",
      "\n",
      "Column Age values, after revoming: \n",
      "[  0   1   2   3   4   5   6   7   8   9  10  11  12  13  14  15  16  17\n",
      "  18  19  20  21  22  23  24  25  26  27  28  29  30  31  32  33  34  35\n",
      "  36  37  38  39  40  41  42  43  44  45  46  47  48  49  50  51  52  53\n",
      "  54  55  56  57  58  59  60  61  62  63  64  65  66  67  68  69  70  71\n",
      "  72  73  74  75  76  77  78  79  80  81  82  83  84  85  86  87  88  89\n",
      "  90  91  92  93  94  95  96  97  98  99 100 102 115]\n"
     ]
    }
   ],
   "source": [
    "# There is one value (-1) in \"Age\" column doesn't make sense, so we'll solve this problem\n",
    "\n",
    "print(\"Column Age values, before revoming: \")\n",
    "print(np.sort(df.Age.unique()))\n",
    "print('\\n')\n",
    "\n",
    "print(f\"Number of values that should be removed in Age column are {df.Age[df.Age < 0].count()}\")\n",
    "print('\\n')\n",
    "\n",
    "df = df[df.Age >= 0]\n",
    "\n",
    "print(\"Column Age values, after revoming: \")\n",
    "print(np.sort(df.Age.unique()));"
   ]
  },
  {
   "cell_type": "code",
   "execution_count": 36,
   "metadata": {},
   "outputs": [
    {
     "name": "stdout",
     "output_type": "stream",
     "text": [
      "Column Days_Left values, before revoming: \n",
      "[ -6  -1   0   1   2   3   4   5   6   7   8   9  10  11  12  13  14  15\n",
      "  16  17  18  19  20  21  22  23  24  25  26  27  28  29  30  31  32  33\n",
      "  34  35  36  37  38  39  40  41  42  43  44  45  46  47  48  49  50  51\n",
      "  52  53  54  55  56  57  58  59  60  61  62  63  64  65  66  67  68  69\n",
      "  70  71  72  73  74  75  76  77  78  79  80  81  82  83  84  85  86  87\n",
      "  88  89  90  91  92  93  94  95  96  97  98 101 102 103 104 105 107 108\n",
      " 109 110 111 112 115 117 119 122 123 125 126 127 132 133 139 142 146 151\n",
      " 155 162 169 176 179]\n",
      "\n",
      "\n",
      "Number of values that should be removed in Days_Left column are 5\n",
      "\n",
      "\n",
      "Column Days_Left values, after revoming: \n",
      "[  0   1   2   3   4   5   6   7   8   9  10  11  12  13  14  15  16  17\n",
      "  18  19  20  21  22  23  24  25  26  27  28  29  30  31  32  33  34  35\n",
      "  36  37  38  39  40  41  42  43  44  45  46  47  48  49  50  51  52  53\n",
      "  54  55  56  57  58  59  60  61  62  63  64  65  66  67  68  69  70  71\n",
      "  72  73  74  75  76  77  78  79  80  81  82  83  84  85  86  87  88  89\n",
      "  90  91  92  93  94  95  96  97  98 101 102 103 104 105 107 108 109 110\n",
      " 111 112 115 117 119 122 123 125 126 127 132 133 139 142 146 151 155 162\n",
      " 169 176 179]\n"
     ]
    }
   ],
   "source": [
    "# There are two of values (-1, -6) in \"Days_Left\" column doesn't make sense, so we'll solve this problem\n",
    "\n",
    "print(f\"Column Days_Left values, before revoming: \")\n",
    "print(np.sort(df.Days_Left.unique()))\n",
    "print('\\n')\n",
    "\n",
    "print(f\"Number of values that should be removed in Days_Left column are {df.Days_Left[df.Days_Left < 0].count()}\")\n",
    "print('\\n')\n",
    "\n",
    "df = df[df.Days_Left >= 0]\n",
    "\n",
    "print(f\"Column Days_Left values, after revoming: \")\n",
    "print(np.sort(df.Days_Left.unique()));\n"
   ]
  },
  {
   "cell_type": "code",
   "execution_count": 37,
   "metadata": {},
   "outputs": [
    {
     "data": {
      "text/html": [
       "<div>\n",
       "<style scoped>\n",
       "    .dataframe tbody tr th:only-of-type {\n",
       "        vertical-align: middle;\n",
       "    }\n",
       "\n",
       "    .dataframe tbody tr th {\n",
       "        vertical-align: top;\n",
       "    }\n",
       "\n",
       "    .dataframe thead th {\n",
       "        text-align: right;\n",
       "    }\n",
       "</style>\n",
       "<table border=\"1\" class=\"dataframe\">\n",
       "  <thead>\n",
       "    <tr style=\"text-align: right;\">\n",
       "      <th></th>\n",
       "      <th>Gender</th>\n",
       "      <th>Scheduled_Day</th>\n",
       "      <th>Appointment_Day</th>\n",
       "      <th>Days_Left</th>\n",
       "      <th>Age</th>\n",
       "      <th>Scholarship</th>\n",
       "      <th>Hypertension</th>\n",
       "      <th>Diabetes</th>\n",
       "      <th>Alcoholism</th>\n",
       "      <th>Handicap</th>\n",
       "      <th>SMS_received</th>\n",
       "      <th>Attending</th>\n",
       "    </tr>\n",
       "  </thead>\n",
       "  <tbody>\n",
       "    <tr>\n",
       "      <th>0</th>\n",
       "      <td>F</td>\n",
       "      <td>2016-04-29</td>\n",
       "      <td>2016-04-29</td>\n",
       "      <td>0</td>\n",
       "      <td>62</td>\n",
       "      <td>0</td>\n",
       "      <td>1</td>\n",
       "      <td>0</td>\n",
       "      <td>0</td>\n",
       "      <td>0</td>\n",
       "      <td>0</td>\n",
       "      <td>No</td>\n",
       "    </tr>\n",
       "    <tr>\n",
       "      <th>1</th>\n",
       "      <td>M</td>\n",
       "      <td>2016-04-29</td>\n",
       "      <td>2016-04-29</td>\n",
       "      <td>0</td>\n",
       "      <td>56</td>\n",
       "      <td>0</td>\n",
       "      <td>0</td>\n",
       "      <td>0</td>\n",
       "      <td>0</td>\n",
       "      <td>0</td>\n",
       "      <td>0</td>\n",
       "      <td>No</td>\n",
       "    </tr>\n",
       "    <tr>\n",
       "      <th>2</th>\n",
       "      <td>F</td>\n",
       "      <td>2016-04-29</td>\n",
       "      <td>2016-04-29</td>\n",
       "      <td>0</td>\n",
       "      <td>62</td>\n",
       "      <td>0</td>\n",
       "      <td>0</td>\n",
       "      <td>0</td>\n",
       "      <td>0</td>\n",
       "      <td>0</td>\n",
       "      <td>0</td>\n",
       "      <td>No</td>\n",
       "    </tr>\n",
       "    <tr>\n",
       "      <th>3</th>\n",
       "      <td>F</td>\n",
       "      <td>2016-04-29</td>\n",
       "      <td>2016-04-29</td>\n",
       "      <td>0</td>\n",
       "      <td>8</td>\n",
       "      <td>0</td>\n",
       "      <td>0</td>\n",
       "      <td>0</td>\n",
       "      <td>0</td>\n",
       "      <td>0</td>\n",
       "      <td>0</td>\n",
       "      <td>No</td>\n",
       "    </tr>\n",
       "    <tr>\n",
       "      <th>4</th>\n",
       "      <td>F</td>\n",
       "      <td>2016-04-29</td>\n",
       "      <td>2016-04-29</td>\n",
       "      <td>0</td>\n",
       "      <td>56</td>\n",
       "      <td>0</td>\n",
       "      <td>1</td>\n",
       "      <td>1</td>\n",
       "      <td>0</td>\n",
       "      <td>0</td>\n",
       "      <td>0</td>\n",
       "      <td>No</td>\n",
       "    </tr>\n",
       "    <tr>\n",
       "      <th>5</th>\n",
       "      <td>F</td>\n",
       "      <td>2016-04-27</td>\n",
       "      <td>2016-04-29</td>\n",
       "      <td>2</td>\n",
       "      <td>76</td>\n",
       "      <td>0</td>\n",
       "      <td>1</td>\n",
       "      <td>0</td>\n",
       "      <td>0</td>\n",
       "      <td>0</td>\n",
       "      <td>0</td>\n",
       "      <td>No</td>\n",
       "    </tr>\n",
       "    <tr>\n",
       "      <th>6</th>\n",
       "      <td>F</td>\n",
       "      <td>2016-04-27</td>\n",
       "      <td>2016-04-29</td>\n",
       "      <td>2</td>\n",
       "      <td>23</td>\n",
       "      <td>0</td>\n",
       "      <td>0</td>\n",
       "      <td>0</td>\n",
       "      <td>0</td>\n",
       "      <td>0</td>\n",
       "      <td>0</td>\n",
       "      <td>Yes</td>\n",
       "    </tr>\n",
       "  </tbody>\n",
       "</table>\n",
       "</div>"
      ],
      "text/plain": [
       "  Gender Scheduled_Day Appointment_Day  Days_Left  Age  Scholarship  \\\n",
       "0      F    2016-04-29      2016-04-29          0   62            0   \n",
       "1      M    2016-04-29      2016-04-29          0   56            0   \n",
       "2      F    2016-04-29      2016-04-29          0   62            0   \n",
       "3      F    2016-04-29      2016-04-29          0    8            0   \n",
       "4      F    2016-04-29      2016-04-29          0   56            0   \n",
       "5      F    2016-04-27      2016-04-29          2   76            0   \n",
       "6      F    2016-04-27      2016-04-29          2   23            0   \n",
       "\n",
       "   Hypertension  Diabetes  Alcoholism  Handicap  SMS_received Attending  \n",
       "0             1         0           0         0             0        No  \n",
       "1             0         0           0         0             0        No  \n",
       "2             0         0           0         0             0        No  \n",
       "3             0         0           0         0             0        No  \n",
       "4             1         1           0         0             0        No  \n",
       "5             1         0           0         0             0        No  \n",
       "6             0         0           0         0             0       Yes  "
      ]
     },
     "execution_count": 37,
     "metadata": {},
     "output_type": "execute_result"
    }
   ],
   "source": [
    "df.head(7)"
   ]
  },
  {
   "cell_type": "markdown",
   "metadata": {
    "id": "tiuwxmWZkIbI"
   },
   "source": [
    "### Deal With Outliers"
   ]
  },
  {
   "cell_type": "code",
   "execution_count": 38,
   "metadata": {
    "id": "dz3NeVsLiR70"
   },
   "outputs": [
    {
     "name": "stdout",
     "output_type": "stream",
     "text": [
      "Column Age values, before dealing with the outlier: \n",
      "[  0   1   2   3   4   5   6   7   8   9  10  11  12  13  14  15  16  17\n",
      "  18  19  20  21  22  23  24  25  26  27  28  29  30  31  32  33  34  35\n",
      "  36  37  38  39  40  41  42  43  44  45  46  47  48  49  50  51  52  53\n",
      "  54  55  56  57  58  59  60  61  62  63  64  65  66  67  68  69  70  71\n",
      "  72  73  74  75  76  77  78  79  80  81  82  83  84  85  86  87  88  89\n",
      "  90  91  92  93  94  95  96  97  98  99 100 102 115]\n",
      "\n",
      "\n",
      "Number of outliers that should be dealing with in Age column are 5\n",
      "\n",
      "\n",
      "Column Age values, after dealing with the outlier: \n",
      "[  0   1   2   3   4   5   6   7   8   9  10  11  12  13  14  15  16  17\n",
      "  18  19  20  21  22  23  24  25  26  27  28  29  30  31  32  33  34  35\n",
      "  36  37  38  39  40  41  42  43  44  45  46  47  48  49  50  51  52  53\n",
      "  54  55  56  57  58  59  60  61  62  63  64  65  66  67  68  69  70  71\n",
      "  72  73  74  75  76  77  78  79  80  81  82  83  84  85  86  87  88  89\n",
      "  90  91  92  93  94  95  96  97  98  99 100 102]\n"
     ]
    }
   ],
   "source": [
    "# There is one outlier in \"Age\" column that causes a problem in the analysis, so we have to deal with it\n",
    "\n",
    "print(f\"Column Age values, before dealing with the outlier: \")\n",
    "print(np.sort(df.Age.unique()))\n",
    "print('\\n')\n",
    "\n",
    "print(f\"Number of outliers that should be dealing with in Age column are {df.Age[df.Age > 102].count()}\")\n",
    "print('\\n')\n",
    "\n",
    "df.Age[df.Age > 102] = df.Age.median()\n",
    "\n",
    "print(f\"Column Age values, after dealing with the outlier: \")\n",
    "print(np.sort(df.Age.unique()));\n",
    "\n",
    "\n",
    "# Add scatter plot with \"Days_Left\" bar plot\n",
    "# Add Heat map as the first plot in Data Visualization & Scatter polt for all in one plot\n",
    "# Add \"Q & A\" Part (Question in the Proposal)\n",
    "# Add Conclousion Part"
   ]
  },
  {
   "cell_type": "markdown",
   "metadata": {
    "id": "OKse-lNrV309"
   },
   "source": [
    "# **Data Visualization**"
   ]
  },
  {
   "cell_type": "code",
   "execution_count": 39,
   "metadata": {},
   "outputs": [
    {
     "data": {
      "image/png": "[encoded data removed]",
      "text/plain": [
       "<Figure size 1296x1296 with 2 Axes>"
      ]
     },
     "metadata": {
      "needs_background": "light"
     },
     "output_type": "display_data"
    }
   ],
   "source": [
    "# graph of the correlation between the features, to know the correlation between them\n",
    "\n",
    "plt.figure(figsize=(18,18))\n",
    "sns.heatmap(df.corr(), center=0, vmax=1, cbar=True, annot=True, square=True, fmt='.2f', annot_kws={'size': 10});"
   ]
  },
  {
   "cell_type": "markdown",
   "metadata": {
    "id": "JwQZSZH9XVEm"
   },
   "source": [
    "As can be seen above, the values in each cell represents a meaning, for example:\n",
    "\n",
    "* 1 : This value means that the correlation between the two features is a positive correlation\n",
    "\n",
    "* -1 : This value means that the correlation between the two features is negative correlation\n",
    "\n",
    "* 0 : This value means that there is no correlation between the two features\n",
    " \n",
    " \n",
    "So, we can say The more the value in the cell is to \"1\" or \"-1\", the more there is a correlation between the two features"
   ]
  },
  {
   "cell_type": "code",
   "execution_count": 40,
   "metadata": {
    "colab": {
     "base_uri": "https://localhost:8080/",
     "height": 264
    },
    "id": "rwujwJkBJOeT",
    "outputId": "a18debf8-102e-49ea-e01d-552e76e927cd"
   },
   "outputs": [
    {
     "data": {
      "image/png": "[encoded data removed]",
      "text/plain": [
       "<Figure size 432x288 with 1 Axes>"
      ]
     },
     "metadata": {},
     "output_type": "display_data"
    }
   ],
   "source": [
    "# graph of the percentage of patients who attended the appointments and those who did not attend in the form of a pie chart\n",
    "\n",
    "attend_values = [df.Attending[df.Attending == 'Yes'].count(), df.Attending[df.Attending == 'No'].count()]\n",
    "attend_labels = ['Yes', 'No']\n",
    "colors = sns.color_palette('bright')[0:5]\n",
    "\n",
    "pie_chart = plt.pie(attend_values, labels = attend_labels, colors = colors, autopct='%.0f%%')\n",
    "plt.title(\"Percentages of patients who attended the appointments\")\n",
    "plt.show()\n"
   ]
  },
  {
   "cell_type": "markdown",
   "metadata": {
    "id": "JwQZSZH9XVEm"
   },
   "source": [
    "As you can see above, the percentage of patients who did not attend their appointments is 80%, and this indicates that there is a problem that must be considered and resolved."
   ]
  },
  {
   "cell_type": "code",
   "execution_count": 41,
   "metadata": {
    "colab": {
     "base_uri": "https://localhost:8080/",
     "height": 301
    },
    "id": "-iaavAQZr6c8",
    "outputId": "85c1bc9b-68a5-4286-ba70-80990b01461b"
   },
   "outputs": [
    {
     "data": {
      "image/png": "[encoded data removed]",
      "text/plain": [
       "<Figure size 432x288 with 1 Axes>"
      ]
     },
     "metadata": {
      "needs_background": "light"
     },
     "output_type": "display_data"
    }
   ],
   "source": [
    "# graph of the number of female patients who attended the appointments and those who did not, and their comparison with the number of male patients, in the form of a count chart\n",
    "\n",
    "count_gender_plot = sns.countplot(x = df.Gender, hue = df.Attending, data = df)\n",
    "count_gender_plot.set_title(\"Attending plot based on the Gender\")\n",
    "x_ticks_labels=['Female Patients', 'Male Patients']\n",
    "count_gender_plot.set_xticklabels(x_ticks_labels)\n",
    "sns.despine() \n",
    "plt.show()"
   ]
  },
  {
   "cell_type": "markdown",
   "metadata": {
    "id": "zwIiorcqXw9f"
   },
   "source": [
    "As shown above, the number of female patients who did not attend the appointment is more than male patients, and also the number of female patients who showed up to the appointment more than male patients.\n",
    "What we conclude from this is that the number of female patients who scheduled an appointment is more than male patients."
   ]
  },
  {
   "cell_type": "code",
   "execution_count": 42,
   "metadata": {
    "colab": {
     "base_uri": "https://localhost:8080/",
     "height": 1000
    },
    "id": "uXAgw85A-hlg",
    "outputId": "970a2ac2-e213-4932-f393-4ae31bfd1a41"
   },
   "outputs": [
    {
     "data": {
      "image/png": "[encoded data removed]",
      "text/plain": [
       "<Figure size 720x1440 with 1 Axes>"
      ]
     },
     "metadata": {
      "needs_background": "light"
     },
     "output_type": "display_data"
    }
   ],
   "source": [
    "# graph of the number of patients who attended the appointments, and those who did not, compared with how many days from schedule day to appointment day\n",
    "\n",
    "Days_values = np.sort(df.Days_Left.unique())\n",
    "Days_values_Plot = Days_values[0:11]\n",
    "\n",
    "plt.figure(figsize=(10,20))\n",
    "count_days_plot = sns.countplot(y = df.Days_Left, hue = df.Attending, palette = \"Set1\", order = Days_values_Plot)\n",
    "count_days_plot.set_title(\"Comparing Days_Left with number of patients who attended the appointments\")\n",
    "plt.show()"
   ]
  },
  {
   "cell_type": "markdown",
   "metadata": {
    "id": "no72DjOHDEyO"
   },
   "source": [
    "As you can see above, the number of patients who attend appointments increases and decreases as the number of days increases from the day of the appointment to the day of the appointment (`Days_left`), but the number of patients continues to decrease after a week has passed since the scheduled appointment."
   ]
  },
  {
   "cell_type": "code",
   "execution_count": 43,
   "metadata": {},
   "outputs": [
    {
     "data": {
      "image/png": "[encoded data removed]",
      "text/plain": [
       "<Figure size 2880x1440 with 1 Axes>"
      ]
     },
     "metadata": {
      "needs_background": "light"
     },
     "output_type": "display_data"
    }
   ],
   "source": [
    "# graph of the number of female patients who attended the appointments and those who did not, and their comparison with the number of male patients, in the form of a count chart\n",
    "\n",
    "plt.figure(figsize=(40,20))\n",
    "Ages_plot = sns.countplot(x = df.Age, hue = df.Attending,palette = \"dark\", data = df)\n",
    "Ages_plot.set_title(\"Attending plot based on the Age\")\n",
    "sns.despine() \n",
    "plt.show()"
   ]
  },
  {
   "cell_type": "markdown",
   "metadata": {
    "id": "no72DjOHDEyO"
   },
   "source": [
    "As shown above, the number of patients who attend appointments goes through an increase and decrease with increasing age, but the number of patients continues to decrease after age 53."
   ]
  },
  {
   "cell_type": "code",
   "execution_count": 44,
   "metadata": {
    "colab": {
     "base_uri": "https://localhost:8080/",
     "height": 319
    },
    "id": "mmmXu34SYKhk",
    "outputId": "faac7f84-b95b-4515-df06-f29970916dbb"
   },
   "outputs": [
    {
     "data": {
      "image/png": "[encoded data removed]",
      "text/plain": [
       "<Figure size 432x288 with 1 Axes>"
      ]
     },
     "metadata": {
      "needs_background": "light"
     },
     "output_type": "display_data"
    },
    {
     "data": {
      "text/plain": [
       "<Figure size 2160x360 with 0 Axes>"
      ]
     },
     "metadata": {},
     "output_type": "display_data"
    }
   ],
   "source": [
    "# graph of patients' ages in the form of a box plot\n",
    "\n",
    "box_plot = sns.boxplot(x = df.Age)\n",
    "box_plot.set_title(\"Patients' ages box plot\")\n",
    "plt.figure(figsize=(30,5));"
   ]
  },
  {
   "cell_type": "markdown",
   "metadata": {
    "id": "2G9qxYtTkcYl"
   },
   "source": [
    "As can be seen above, the lower quartile (25%) is equal to 18, the median age (50%) is equal to 37, the upper quartile (75%) is equal to 55. There are some outliers which we will not take into account in our analysis."
   ]
  },
  {
   "cell_type": "code",
   "execution_count": 45,
   "metadata": {
    "colab": {
     "base_uri": "https://localhost:8080/",
     "height": 301
    },
    "id": "mAkkdmrAnnOa",
    "outputId": "0d063847-bb62-4af3-bb2f-7e3d1490b93a"
   },
   "outputs": [
    {
     "data": {
      "image/png": "[encoded data removed]",
      "text/plain": [
       "<Figure size 432x288 with 1 Axes>"
      ]
     },
     "metadata": {
      "needs_background": "light"
     },
     "output_type": "display_data"
    }
   ],
   "source": [
    "# Graph of the number of patients who have a scholarship, and attended their appointments, and compare them with those who do not have a scholarship\n",
    "\n",
    "count_scholarship_plot = sns.countplot(x = df.Scholarship, hue = df.Attending, data = df, edgecolor=sns.color_palette(\"dark\", 3))\n",
    "count_scholarship_plot.set_title(\"Attending plot based on who have scholarship\")\n",
    "x_ticks_labels=['Do not have scholarship', 'Have scholarship']\n",
    "count_scholarship_plot.set_xticklabels(x_ticks_labels)\n",
    "sns.despine() \n",
    "plt.show()"
   ]
  },
  {
   "cell_type": "markdown",
   "metadata": {
    "id": "Rd6-x-llu-Hs"
   },
   "source": [
    "As can be noticed above, the number of patients who attended the appointments and have scholarship is much higher than the number of patients who attended the appointments and do not have scholarship."
   ]
  },
  {
   "cell_type": "code",
   "execution_count": 46,
   "metadata": {
    "colab": {
     "base_uri": "https://localhost:8080/",
     "height": 301
    },
    "id": "XLBPhwtf4_6K",
    "outputId": "ab59bf4e-89f0-453e-fc44-21e4bc966502"
   },
   "outputs": [
    {
     "data": {
      "image/png": "[encoded data removed]",
      "text/plain": [
       "<Figure size 432x288 with 1 Axes>"
      ]
     },
     "metadata": {
      "needs_background": "light"
     },
     "output_type": "display_data"
    }
   ],
   "source": [
    "# Graph of the number of patients who have alcoholism, and attended their appointments, and compare them with those who do not have alcoholism\n",
    "\n",
    "count_alcoholism_plot = sns.countplot(x = df.Alcoholism, hue = df.Attending, data = df, palette=\"Set2\")\n",
    "count_alcoholism_plot.set_title(\"Attending plot based on who have alcoholism\")\n",
    "x_ticks_labels=['Do not have alcoholism', 'Have alcoholism']\n",
    "count_alcoholism_plot.set_xticklabels(x_ticks_labels)\n",
    "sns.despine() \n",
    "plt.show()"
   ]
  },
  {
   "cell_type": "markdown",
   "metadata": {
    "id": "ZqZV_4xH7ZSd"
   },
   "source": [
    "As shown, the number of patients who attended appointments and have alcoholism is very small compared to the number of patients who attended appointments and do not have alcoholism."
   ]
  },
  {
   "cell_type": "code",
   "execution_count": 47,
   "metadata": {
    "colab": {
     "base_uri": "https://localhost:8080/",
     "height": 301
    },
    "id": "TYqUr2bbFTcM",
    "outputId": "b18ce277-b9cf-48a4-b704-4f885a538a85"
   },
   "outputs": [
    {
     "data": {
      "image/png": "[encoded data removed]",
      "text/plain": [
       "<Figure size 432x288 with 1 Axes>"
      ]
     },
     "metadata": {
      "needs_background": "light"
     },
     "output_type": "display_data"
    }
   ],
   "source": [
    "# Graph of the number of patients who received SMS, and attended their appointments, and compare them with those who did not receive SMS\n",
    "\n",
    "count_SMS_plot = sns.countplot(x = df.SMS_received, hue = df.Attending, data = df, palette=\"Set3\")\n",
    "count_SMS_plot.set_title(\"Attending plot based on who received SMS\")\n",
    "x_ticks_labels=['Did not receive SMS', 'received SMS']\n",
    "count_SMS_plot.set_xticklabels(x_ticks_labels)\n",
    "sns.despine() \n",
    "plt.show()"
   ]
  },
  {
   "cell_type": "markdown",
   "metadata": {
    "id": "0fFE19GcG9_3"
   },
   "source": [
    "As shown above, the number of patients who attended the appointments and received SMS is more than those who did not receive SMS."
   ]
  },
  {
   "cell_type": "markdown",
   "metadata": {
    "id": "OKse-lNrV309"
   },
   "source": [
    "# **Questions and Answers**"
   ]
  },
  {
   "cell_type": "markdown",
   "metadata": {
    "id": "lqItJ8ZaD65A"
   },
   "source": [
    "### What are the top three features affecting patients' attendance for their appointments?"
   ]
  },
  {
   "cell_type": "markdown",
   "metadata": {
    "id": "0fFE19GcG9_3"
   },
   "source": [
    "There are many features that affect patients' attendance to their appointments, but the three most prominent features are:\n",
    "\n",
    "1. Alcoholism \n",
    "\n",
    "2. Scholarship\n",
    "\n",
    "3. Gender"
   ]
  },
  {
   "cell_type": "markdown",
   "metadata": {
    "id": "lqItJ8ZaD65A"
   },
   "source": [
    "### Is there a correlation between one feature and another?"
   ]
  },
  {
   "cell_type": "markdown",
   "metadata": {
    "id": "0fFE19GcG9_3"
   },
   "source": [
    "Based on the heatmap, there are some features that have a correlation with other features, for example:\n",
    "* Age and Hypertension\n",
    "* Diabetes and Hypertension\n",
    "* Days_Left and SMS_received"
   ]
  },
  {
   "cell_type": "markdown",
   "metadata": {
    "id": "lqItJ8ZaD65A"
   },
   "source": [
    "### What do you suggest to solve this problem?"
   ]
  },
  {
   "cell_type": "markdown",
   "metadata": {
    "id": "0fFE19GcG9_3"
   },
   "source": [
    "In my opinion, the best solution to a problem is to find out its causes. Therefore, in order to solve the problem of patients not attending their appointments, we must look for the reasons and try to reduce them as much as possible, for example:\n",
    "\n",
    "* `Age`: Patients over the age of fifty, we ask them to choose a family member (son, daughter, brother, nephew, ... etc.) as responsible for him, and we remind them of the appointment every two or three days by calling or sending messages.\n",
    "\n",
    "\n",
    "* `Scholarship`: We are trying to increase the number of patients who have a scholarship, by asking the competent authorities and convincing them, because some cannot go to the appointment because they do not have the money for treatment.\n",
    "\n",
    "\n",
    "* `Alcoholism`: Spreading awareness about the dangers of alcohol addiction, persuading the alcohol addicted patient to join clinics to quit drinking alcohol, and hypnotizing the alcoholic patient 24 hours before the appointment (if needed).\n",
    "\n",
    "\n",
    "* `SMS_received`: Sending an appointment reminder message to the patient’s phone on the scheduled day, and another message 24 hours before the appointment day, and messages every two or three days if `Days_Left` is more than three days."
   ]
  }
 ],
 "metadata": {
  "colab": {
   "collapsed_sections": [],
   "name": "Patients Attending Medical Appointments Project (EDA).ipynb",
   "provenance": []
  },
  "kernelspec": {
   "display_name": "Python 3",
   "language": "python",
   "name": "python3"
  },
  "language_info": {
   "codemirror_mode": {
    "name": "ipython",
    "version": 3
   },
   "file_extension": ".py",
   "mimetype": "text/x-python",
   "name": "python",
   "nbconvert_exporter": "python",
   "pygments_lexer": "ipython3",
   "version": "3.7.9"
  }
 },
 "nbformat": 4,
 "nbformat_minor": 1
}
